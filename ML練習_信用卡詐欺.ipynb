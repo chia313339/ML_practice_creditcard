{
  "nbformat": 4,
  "nbformat_minor": 0,
  "metadata": {
    "colab": {
      "name": "ML練習_信用卡詐欺.ipynb",
      "provenance": [],
      "collapsed_sections": []
    },
    "kernelspec": {
      "name": "python3",
      "display_name": "Python 3"
    }
  },
  "cells": [
    {
      "cell_type": "markdown",
      "metadata": {
        "id": "eewSW_ycKnma"
      },
      "source": [
        "# 信用卡詐欺\n",
        "回歸練習"
      ]
    },
    {
      "cell_type": "code",
      "metadata": {
        "id": "7mPl8_AsExbZ"
      },
      "source": [
        "import pandas as pd\n",
        "import matplotlib.pyplot as plt\n",
        "import numpy as np\n",
        "\n",
        "%matplotlib inline"
      ],
      "execution_count": 199,
      "outputs": []
    },
    {
      "cell_type": "code",
      "metadata": {
        "id": "AIP4h7DiKZvG",
        "outputId": "239ed33f-9474-441c-cb7a-729f6b97536a",
        "colab": {
          "base_uri": "https://localhost:8080/",
          "height": 224
        }
      },
      "source": [
        "data = pd.read_csv('/content/drive/My Drive/ML/creditcard.csv')\n",
        "data.head()"
      ],
      "execution_count": 200,
      "outputs": [
        {
          "output_type": "execute_result",
          "data": {
            "text/html": [
              "<div>\n",
              "<style scoped>\n",
              "    .dataframe tbody tr th:only-of-type {\n",
              "        vertical-align: middle;\n",
              "    }\n",
              "\n",
              "    .dataframe tbody tr th {\n",
              "        vertical-align: top;\n",
              "    }\n",
              "\n",
              "    .dataframe thead th {\n",
              "        text-align: right;\n",
              "    }\n",
              "</style>\n",
              "<table border=\"1\" class=\"dataframe\">\n",
              "  <thead>\n",
              "    <tr style=\"text-align: right;\">\n",
              "      <th></th>\n",
              "      <th>Time</th>\n",
              "      <th>V1</th>\n",
              "      <th>V2</th>\n",
              "      <th>V3</th>\n",
              "      <th>V4</th>\n",
              "      <th>V5</th>\n",
              "      <th>V6</th>\n",
              "      <th>V7</th>\n",
              "      <th>V8</th>\n",
              "      <th>V9</th>\n",
              "      <th>V10</th>\n",
              "      <th>V11</th>\n",
              "      <th>V12</th>\n",
              "      <th>V13</th>\n",
              "      <th>V14</th>\n",
              "      <th>V15</th>\n",
              "      <th>V16</th>\n",
              "      <th>V17</th>\n",
              "      <th>V18</th>\n",
              "      <th>V19</th>\n",
              "      <th>V20</th>\n",
              "      <th>V21</th>\n",
              "      <th>V22</th>\n",
              "      <th>V23</th>\n",
              "      <th>V24</th>\n",
              "      <th>V25</th>\n",
              "      <th>V26</th>\n",
              "      <th>V27</th>\n",
              "      <th>V28</th>\n",
              "      <th>Amount</th>\n",
              "      <th>Class</th>\n",
              "    </tr>\n",
              "  </thead>\n",
              "  <tbody>\n",
              "    <tr>\n",
              "      <th>0</th>\n",
              "      <td>0.0</td>\n",
              "      <td>-1.359807</td>\n",
              "      <td>-0.072781</td>\n",
              "      <td>2.536347</td>\n",
              "      <td>1.378155</td>\n",
              "      <td>-0.338321</td>\n",
              "      <td>0.462388</td>\n",
              "      <td>0.239599</td>\n",
              "      <td>0.098698</td>\n",
              "      <td>0.363787</td>\n",
              "      <td>0.090794</td>\n",
              "      <td>-0.551600</td>\n",
              "      <td>-0.617801</td>\n",
              "      <td>-0.991390</td>\n",
              "      <td>-0.311169</td>\n",
              "      <td>1.468177</td>\n",
              "      <td>-0.470401</td>\n",
              "      <td>0.207971</td>\n",
              "      <td>0.025791</td>\n",
              "      <td>0.403993</td>\n",
              "      <td>0.251412</td>\n",
              "      <td>-0.018307</td>\n",
              "      <td>0.277838</td>\n",
              "      <td>-0.110474</td>\n",
              "      <td>0.066928</td>\n",
              "      <td>0.128539</td>\n",
              "      <td>-0.189115</td>\n",
              "      <td>0.133558</td>\n",
              "      <td>-0.021053</td>\n",
              "      <td>149.62</td>\n",
              "      <td>0</td>\n",
              "    </tr>\n",
              "    <tr>\n",
              "      <th>1</th>\n",
              "      <td>0.0</td>\n",
              "      <td>1.191857</td>\n",
              "      <td>0.266151</td>\n",
              "      <td>0.166480</td>\n",
              "      <td>0.448154</td>\n",
              "      <td>0.060018</td>\n",
              "      <td>-0.082361</td>\n",
              "      <td>-0.078803</td>\n",
              "      <td>0.085102</td>\n",
              "      <td>-0.255425</td>\n",
              "      <td>-0.166974</td>\n",
              "      <td>1.612727</td>\n",
              "      <td>1.065235</td>\n",
              "      <td>0.489095</td>\n",
              "      <td>-0.143772</td>\n",
              "      <td>0.635558</td>\n",
              "      <td>0.463917</td>\n",
              "      <td>-0.114805</td>\n",
              "      <td>-0.183361</td>\n",
              "      <td>-0.145783</td>\n",
              "      <td>-0.069083</td>\n",
              "      <td>-0.225775</td>\n",
              "      <td>-0.638672</td>\n",
              "      <td>0.101288</td>\n",
              "      <td>-0.339846</td>\n",
              "      <td>0.167170</td>\n",
              "      <td>0.125895</td>\n",
              "      <td>-0.008983</td>\n",
              "      <td>0.014724</td>\n",
              "      <td>2.69</td>\n",
              "      <td>0</td>\n",
              "    </tr>\n",
              "    <tr>\n",
              "      <th>2</th>\n",
              "      <td>1.0</td>\n",
              "      <td>-1.358354</td>\n",
              "      <td>-1.340163</td>\n",
              "      <td>1.773209</td>\n",
              "      <td>0.379780</td>\n",
              "      <td>-0.503198</td>\n",
              "      <td>1.800499</td>\n",
              "      <td>0.791461</td>\n",
              "      <td>0.247676</td>\n",
              "      <td>-1.514654</td>\n",
              "      <td>0.207643</td>\n",
              "      <td>0.624501</td>\n",
              "      <td>0.066084</td>\n",
              "      <td>0.717293</td>\n",
              "      <td>-0.165946</td>\n",
              "      <td>2.345865</td>\n",
              "      <td>-2.890083</td>\n",
              "      <td>1.109969</td>\n",
              "      <td>-0.121359</td>\n",
              "      <td>-2.261857</td>\n",
              "      <td>0.524980</td>\n",
              "      <td>0.247998</td>\n",
              "      <td>0.771679</td>\n",
              "      <td>0.909412</td>\n",
              "      <td>-0.689281</td>\n",
              "      <td>-0.327642</td>\n",
              "      <td>-0.139097</td>\n",
              "      <td>-0.055353</td>\n",
              "      <td>-0.059752</td>\n",
              "      <td>378.66</td>\n",
              "      <td>0</td>\n",
              "    </tr>\n",
              "    <tr>\n",
              "      <th>3</th>\n",
              "      <td>1.0</td>\n",
              "      <td>-0.966272</td>\n",
              "      <td>-0.185226</td>\n",
              "      <td>1.792993</td>\n",
              "      <td>-0.863291</td>\n",
              "      <td>-0.010309</td>\n",
              "      <td>1.247203</td>\n",
              "      <td>0.237609</td>\n",
              "      <td>0.377436</td>\n",
              "      <td>-1.387024</td>\n",
              "      <td>-0.054952</td>\n",
              "      <td>-0.226487</td>\n",
              "      <td>0.178228</td>\n",
              "      <td>0.507757</td>\n",
              "      <td>-0.287924</td>\n",
              "      <td>-0.631418</td>\n",
              "      <td>-1.059647</td>\n",
              "      <td>-0.684093</td>\n",
              "      <td>1.965775</td>\n",
              "      <td>-1.232622</td>\n",
              "      <td>-0.208038</td>\n",
              "      <td>-0.108300</td>\n",
              "      <td>0.005274</td>\n",
              "      <td>-0.190321</td>\n",
              "      <td>-1.175575</td>\n",
              "      <td>0.647376</td>\n",
              "      <td>-0.221929</td>\n",
              "      <td>0.062723</td>\n",
              "      <td>0.061458</td>\n",
              "      <td>123.50</td>\n",
              "      <td>0</td>\n",
              "    </tr>\n",
              "    <tr>\n",
              "      <th>4</th>\n",
              "      <td>2.0</td>\n",
              "      <td>-1.158233</td>\n",
              "      <td>0.877737</td>\n",
              "      <td>1.548718</td>\n",
              "      <td>0.403034</td>\n",
              "      <td>-0.407193</td>\n",
              "      <td>0.095921</td>\n",
              "      <td>0.592941</td>\n",
              "      <td>-0.270533</td>\n",
              "      <td>0.817739</td>\n",
              "      <td>0.753074</td>\n",
              "      <td>-0.822843</td>\n",
              "      <td>0.538196</td>\n",
              "      <td>1.345852</td>\n",
              "      <td>-1.119670</td>\n",
              "      <td>0.175121</td>\n",
              "      <td>-0.451449</td>\n",
              "      <td>-0.237033</td>\n",
              "      <td>-0.038195</td>\n",
              "      <td>0.803487</td>\n",
              "      <td>0.408542</td>\n",
              "      <td>-0.009431</td>\n",
              "      <td>0.798278</td>\n",
              "      <td>-0.137458</td>\n",
              "      <td>0.141267</td>\n",
              "      <td>-0.206010</td>\n",
              "      <td>0.502292</td>\n",
              "      <td>0.219422</td>\n",
              "      <td>0.215153</td>\n",
              "      <td>69.99</td>\n",
              "      <td>0</td>\n",
              "    </tr>\n",
              "  </tbody>\n",
              "</table>\n",
              "</div>"
            ],
            "text/plain": [
              "   Time        V1        V2        V3  ...       V27       V28  Amount  Class\n",
              "0   0.0 -1.359807 -0.072781  2.536347  ...  0.133558 -0.021053  149.62      0\n",
              "1   0.0  1.191857  0.266151  0.166480  ... -0.008983  0.014724    2.69      0\n",
              "2   1.0 -1.358354 -1.340163  1.773209  ... -0.055353 -0.059752  378.66      0\n",
              "3   1.0 -0.966272 -0.185226  1.792993  ...  0.062723  0.061458  123.50      0\n",
              "4   2.0 -1.158233  0.877737  1.548718  ...  0.219422  0.215153   69.99      0\n",
              "\n",
              "[5 rows x 31 columns]"
            ]
          },
          "metadata": {
            "tags": []
          },
          "execution_count": 200
        }
      ]
    },
    {
      "cell_type": "code",
      "metadata": {
        "id": "Z4-w6F40KZ6E",
        "outputId": "8e9af5a9-82ad-45c7-8c37-307c6da4c0c6",
        "colab": {
          "base_uri": "https://localhost:8080/",
          "height": 68
        }
      },
      "source": [
        "count_classes = pd.value_counts(data['Class'])\n",
        "count_classes"
      ],
      "execution_count": 201,
      "outputs": [
        {
          "output_type": "execute_result",
          "data": {
            "text/plain": [
              "0    284315\n",
              "1       492\n",
              "Name: Class, dtype: int64"
            ]
          },
          "metadata": {
            "tags": []
          },
          "execution_count": 201
        }
      ]
    },
    {
      "cell_type": "code",
      "metadata": {
        "id": "MWxWJNVPKZ8a",
        "outputId": "f94dd880-0cb5-4ad3-c492-a02350261e59",
        "colab": {
          "base_uri": "https://localhost:8080/",
          "height": 317
        }
      },
      "source": [
        "data.describe()"
      ],
      "execution_count": 202,
      "outputs": [
        {
          "output_type": "execute_result",
          "data": {
            "text/html": [
              "<div>\n",
              "<style scoped>\n",
              "    .dataframe tbody tr th:only-of-type {\n",
              "        vertical-align: middle;\n",
              "    }\n",
              "\n",
              "    .dataframe tbody tr th {\n",
              "        vertical-align: top;\n",
              "    }\n",
              "\n",
              "    .dataframe thead th {\n",
              "        text-align: right;\n",
              "    }\n",
              "</style>\n",
              "<table border=\"1\" class=\"dataframe\">\n",
              "  <thead>\n",
              "    <tr style=\"text-align: right;\">\n",
              "      <th></th>\n",
              "      <th>Time</th>\n",
              "      <th>V1</th>\n",
              "      <th>V2</th>\n",
              "      <th>V3</th>\n",
              "      <th>V4</th>\n",
              "      <th>V5</th>\n",
              "      <th>V6</th>\n",
              "      <th>V7</th>\n",
              "      <th>V8</th>\n",
              "      <th>V9</th>\n",
              "      <th>V10</th>\n",
              "      <th>V11</th>\n",
              "      <th>V12</th>\n",
              "      <th>V13</th>\n",
              "      <th>V14</th>\n",
              "      <th>V15</th>\n",
              "      <th>V16</th>\n",
              "      <th>V17</th>\n",
              "      <th>V18</th>\n",
              "      <th>V19</th>\n",
              "      <th>V20</th>\n",
              "      <th>V21</th>\n",
              "      <th>V22</th>\n",
              "      <th>V23</th>\n",
              "      <th>V24</th>\n",
              "      <th>V25</th>\n",
              "      <th>V26</th>\n",
              "      <th>V27</th>\n",
              "      <th>V28</th>\n",
              "      <th>Amount</th>\n",
              "      <th>Class</th>\n",
              "    </tr>\n",
              "  </thead>\n",
              "  <tbody>\n",
              "    <tr>\n",
              "      <th>count</th>\n",
              "      <td>284807.000000</td>\n",
              "      <td>2.848070e+05</td>\n",
              "      <td>2.848070e+05</td>\n",
              "      <td>2.848070e+05</td>\n",
              "      <td>2.848070e+05</td>\n",
              "      <td>2.848070e+05</td>\n",
              "      <td>2.848070e+05</td>\n",
              "      <td>2.848070e+05</td>\n",
              "      <td>2.848070e+05</td>\n",
              "      <td>2.848070e+05</td>\n",
              "      <td>2.848070e+05</td>\n",
              "      <td>2.848070e+05</td>\n",
              "      <td>2.848070e+05</td>\n",
              "      <td>2.848070e+05</td>\n",
              "      <td>2.848070e+05</td>\n",
              "      <td>2.848070e+05</td>\n",
              "      <td>2.848070e+05</td>\n",
              "      <td>2.848070e+05</td>\n",
              "      <td>2.848070e+05</td>\n",
              "      <td>2.848070e+05</td>\n",
              "      <td>2.848070e+05</td>\n",
              "      <td>2.848070e+05</td>\n",
              "      <td>2.848070e+05</td>\n",
              "      <td>2.848070e+05</td>\n",
              "      <td>2.848070e+05</td>\n",
              "      <td>2.848070e+05</td>\n",
              "      <td>2.848070e+05</td>\n",
              "      <td>2.848070e+05</td>\n",
              "      <td>2.848070e+05</td>\n",
              "      <td>284807.000000</td>\n",
              "      <td>284807.000000</td>\n",
              "    </tr>\n",
              "    <tr>\n",
              "      <th>mean</th>\n",
              "      <td>94813.859575</td>\n",
              "      <td>3.919560e-15</td>\n",
              "      <td>5.688174e-16</td>\n",
              "      <td>-8.769071e-15</td>\n",
              "      <td>2.782312e-15</td>\n",
              "      <td>-1.552563e-15</td>\n",
              "      <td>2.010663e-15</td>\n",
              "      <td>-1.694249e-15</td>\n",
              "      <td>-1.927028e-16</td>\n",
              "      <td>-3.137024e-15</td>\n",
              "      <td>1.768627e-15</td>\n",
              "      <td>9.170318e-16</td>\n",
              "      <td>-1.810658e-15</td>\n",
              "      <td>1.693438e-15</td>\n",
              "      <td>1.479045e-15</td>\n",
              "      <td>3.482336e-15</td>\n",
              "      <td>1.392007e-15</td>\n",
              "      <td>-7.528491e-16</td>\n",
              "      <td>4.328772e-16</td>\n",
              "      <td>9.049732e-16</td>\n",
              "      <td>5.085503e-16</td>\n",
              "      <td>1.537294e-16</td>\n",
              "      <td>7.959909e-16</td>\n",
              "      <td>5.367590e-16</td>\n",
              "      <td>4.458112e-15</td>\n",
              "      <td>1.453003e-15</td>\n",
              "      <td>1.699104e-15</td>\n",
              "      <td>-3.660161e-16</td>\n",
              "      <td>-1.206049e-16</td>\n",
              "      <td>88.349619</td>\n",
              "      <td>0.001727</td>\n",
              "    </tr>\n",
              "    <tr>\n",
              "      <th>std</th>\n",
              "      <td>47488.145955</td>\n",
              "      <td>1.958696e+00</td>\n",
              "      <td>1.651309e+00</td>\n",
              "      <td>1.516255e+00</td>\n",
              "      <td>1.415869e+00</td>\n",
              "      <td>1.380247e+00</td>\n",
              "      <td>1.332271e+00</td>\n",
              "      <td>1.237094e+00</td>\n",
              "      <td>1.194353e+00</td>\n",
              "      <td>1.098632e+00</td>\n",
              "      <td>1.088850e+00</td>\n",
              "      <td>1.020713e+00</td>\n",
              "      <td>9.992014e-01</td>\n",
              "      <td>9.952742e-01</td>\n",
              "      <td>9.585956e-01</td>\n",
              "      <td>9.153160e-01</td>\n",
              "      <td>8.762529e-01</td>\n",
              "      <td>8.493371e-01</td>\n",
              "      <td>8.381762e-01</td>\n",
              "      <td>8.140405e-01</td>\n",
              "      <td>7.709250e-01</td>\n",
              "      <td>7.345240e-01</td>\n",
              "      <td>7.257016e-01</td>\n",
              "      <td>6.244603e-01</td>\n",
              "      <td>6.056471e-01</td>\n",
              "      <td>5.212781e-01</td>\n",
              "      <td>4.822270e-01</td>\n",
              "      <td>4.036325e-01</td>\n",
              "      <td>3.300833e-01</td>\n",
              "      <td>250.120109</td>\n",
              "      <td>0.041527</td>\n",
              "    </tr>\n",
              "    <tr>\n",
              "      <th>min</th>\n",
              "      <td>0.000000</td>\n",
              "      <td>-5.640751e+01</td>\n",
              "      <td>-7.271573e+01</td>\n",
              "      <td>-4.832559e+01</td>\n",
              "      <td>-5.683171e+00</td>\n",
              "      <td>-1.137433e+02</td>\n",
              "      <td>-2.616051e+01</td>\n",
              "      <td>-4.355724e+01</td>\n",
              "      <td>-7.321672e+01</td>\n",
              "      <td>-1.343407e+01</td>\n",
              "      <td>-2.458826e+01</td>\n",
              "      <td>-4.797473e+00</td>\n",
              "      <td>-1.868371e+01</td>\n",
              "      <td>-5.791881e+00</td>\n",
              "      <td>-1.921433e+01</td>\n",
              "      <td>-4.498945e+00</td>\n",
              "      <td>-1.412985e+01</td>\n",
              "      <td>-2.516280e+01</td>\n",
              "      <td>-9.498746e+00</td>\n",
              "      <td>-7.213527e+00</td>\n",
              "      <td>-5.449772e+01</td>\n",
              "      <td>-3.483038e+01</td>\n",
              "      <td>-1.093314e+01</td>\n",
              "      <td>-4.480774e+01</td>\n",
              "      <td>-2.836627e+00</td>\n",
              "      <td>-1.029540e+01</td>\n",
              "      <td>-2.604551e+00</td>\n",
              "      <td>-2.256568e+01</td>\n",
              "      <td>-1.543008e+01</td>\n",
              "      <td>0.000000</td>\n",
              "      <td>0.000000</td>\n",
              "    </tr>\n",
              "    <tr>\n",
              "      <th>25%</th>\n",
              "      <td>54201.500000</td>\n",
              "      <td>-9.203734e-01</td>\n",
              "      <td>-5.985499e-01</td>\n",
              "      <td>-8.903648e-01</td>\n",
              "      <td>-8.486401e-01</td>\n",
              "      <td>-6.915971e-01</td>\n",
              "      <td>-7.682956e-01</td>\n",
              "      <td>-5.540759e-01</td>\n",
              "      <td>-2.086297e-01</td>\n",
              "      <td>-6.430976e-01</td>\n",
              "      <td>-5.354257e-01</td>\n",
              "      <td>-7.624942e-01</td>\n",
              "      <td>-4.055715e-01</td>\n",
              "      <td>-6.485393e-01</td>\n",
              "      <td>-4.255740e-01</td>\n",
              "      <td>-5.828843e-01</td>\n",
              "      <td>-4.680368e-01</td>\n",
              "      <td>-4.837483e-01</td>\n",
              "      <td>-4.988498e-01</td>\n",
              "      <td>-4.562989e-01</td>\n",
              "      <td>-2.117214e-01</td>\n",
              "      <td>-2.283949e-01</td>\n",
              "      <td>-5.423504e-01</td>\n",
              "      <td>-1.618463e-01</td>\n",
              "      <td>-3.545861e-01</td>\n",
              "      <td>-3.171451e-01</td>\n",
              "      <td>-3.269839e-01</td>\n",
              "      <td>-7.083953e-02</td>\n",
              "      <td>-5.295979e-02</td>\n",
              "      <td>5.600000</td>\n",
              "      <td>0.000000</td>\n",
              "    </tr>\n",
              "    <tr>\n",
              "      <th>50%</th>\n",
              "      <td>84692.000000</td>\n",
              "      <td>1.810880e-02</td>\n",
              "      <td>6.548556e-02</td>\n",
              "      <td>1.798463e-01</td>\n",
              "      <td>-1.984653e-02</td>\n",
              "      <td>-5.433583e-02</td>\n",
              "      <td>-2.741871e-01</td>\n",
              "      <td>4.010308e-02</td>\n",
              "      <td>2.235804e-02</td>\n",
              "      <td>-5.142873e-02</td>\n",
              "      <td>-9.291738e-02</td>\n",
              "      <td>-3.275735e-02</td>\n",
              "      <td>1.400326e-01</td>\n",
              "      <td>-1.356806e-02</td>\n",
              "      <td>5.060132e-02</td>\n",
              "      <td>4.807155e-02</td>\n",
              "      <td>6.641332e-02</td>\n",
              "      <td>-6.567575e-02</td>\n",
              "      <td>-3.636312e-03</td>\n",
              "      <td>3.734823e-03</td>\n",
              "      <td>-6.248109e-02</td>\n",
              "      <td>-2.945017e-02</td>\n",
              "      <td>6.781943e-03</td>\n",
              "      <td>-1.119293e-02</td>\n",
              "      <td>4.097606e-02</td>\n",
              "      <td>1.659350e-02</td>\n",
              "      <td>-5.213911e-02</td>\n",
              "      <td>1.342146e-03</td>\n",
              "      <td>1.124383e-02</td>\n",
              "      <td>22.000000</td>\n",
              "      <td>0.000000</td>\n",
              "    </tr>\n",
              "    <tr>\n",
              "      <th>75%</th>\n",
              "      <td>139320.500000</td>\n",
              "      <td>1.315642e+00</td>\n",
              "      <td>8.037239e-01</td>\n",
              "      <td>1.027196e+00</td>\n",
              "      <td>7.433413e-01</td>\n",
              "      <td>6.119264e-01</td>\n",
              "      <td>3.985649e-01</td>\n",
              "      <td>5.704361e-01</td>\n",
              "      <td>3.273459e-01</td>\n",
              "      <td>5.971390e-01</td>\n",
              "      <td>4.539234e-01</td>\n",
              "      <td>7.395934e-01</td>\n",
              "      <td>6.182380e-01</td>\n",
              "      <td>6.625050e-01</td>\n",
              "      <td>4.931498e-01</td>\n",
              "      <td>6.488208e-01</td>\n",
              "      <td>5.232963e-01</td>\n",
              "      <td>3.996750e-01</td>\n",
              "      <td>5.008067e-01</td>\n",
              "      <td>4.589494e-01</td>\n",
              "      <td>1.330408e-01</td>\n",
              "      <td>1.863772e-01</td>\n",
              "      <td>5.285536e-01</td>\n",
              "      <td>1.476421e-01</td>\n",
              "      <td>4.395266e-01</td>\n",
              "      <td>3.507156e-01</td>\n",
              "      <td>2.409522e-01</td>\n",
              "      <td>9.104512e-02</td>\n",
              "      <td>7.827995e-02</td>\n",
              "      <td>77.165000</td>\n",
              "      <td>0.000000</td>\n",
              "    </tr>\n",
              "    <tr>\n",
              "      <th>max</th>\n",
              "      <td>172792.000000</td>\n",
              "      <td>2.454930e+00</td>\n",
              "      <td>2.205773e+01</td>\n",
              "      <td>9.382558e+00</td>\n",
              "      <td>1.687534e+01</td>\n",
              "      <td>3.480167e+01</td>\n",
              "      <td>7.330163e+01</td>\n",
              "      <td>1.205895e+02</td>\n",
              "      <td>2.000721e+01</td>\n",
              "      <td>1.559499e+01</td>\n",
              "      <td>2.374514e+01</td>\n",
              "      <td>1.201891e+01</td>\n",
              "      <td>7.848392e+00</td>\n",
              "      <td>7.126883e+00</td>\n",
              "      <td>1.052677e+01</td>\n",
              "      <td>8.877742e+00</td>\n",
              "      <td>1.731511e+01</td>\n",
              "      <td>9.253526e+00</td>\n",
              "      <td>5.041069e+00</td>\n",
              "      <td>5.591971e+00</td>\n",
              "      <td>3.942090e+01</td>\n",
              "      <td>2.720284e+01</td>\n",
              "      <td>1.050309e+01</td>\n",
              "      <td>2.252841e+01</td>\n",
              "      <td>4.584549e+00</td>\n",
              "      <td>7.519589e+00</td>\n",
              "      <td>3.517346e+00</td>\n",
              "      <td>3.161220e+01</td>\n",
              "      <td>3.384781e+01</td>\n",
              "      <td>25691.160000</td>\n",
              "      <td>1.000000</td>\n",
              "    </tr>\n",
              "  </tbody>\n",
              "</table>\n",
              "</div>"
            ],
            "text/plain": [
              "                Time            V1  ...         Amount          Class\n",
              "count  284807.000000  2.848070e+05  ...  284807.000000  284807.000000\n",
              "mean    94813.859575  3.919560e-15  ...      88.349619       0.001727\n",
              "std     47488.145955  1.958696e+00  ...     250.120109       0.041527\n",
              "min         0.000000 -5.640751e+01  ...       0.000000       0.000000\n",
              "25%     54201.500000 -9.203734e-01  ...       5.600000       0.000000\n",
              "50%     84692.000000  1.810880e-02  ...      22.000000       0.000000\n",
              "75%    139320.500000  1.315642e+00  ...      77.165000       0.000000\n",
              "max    172792.000000  2.454930e+00  ...   25691.160000       1.000000\n",
              "\n",
              "[8 rows x 31 columns]"
            ]
          },
          "metadata": {
            "tags": []
          },
          "execution_count": 202
        }
      ]
    },
    {
      "cell_type": "code",
      "metadata": {
        "id": "yJTkYhm6KZ-q",
        "outputId": "01bf47a7-8f10-41ff-fa39-198df2dc55c2",
        "colab": {
          "base_uri": "https://localhost:8080/",
          "height": 296
        }
      },
      "source": [
        "count_classes.plot(kind = 'bar')\n",
        "print('Class 0:',count_classes[0]/data.shape[0])\n",
        "print('Class 1:',count_classes[1]/data.shape[0])"
      ],
      "execution_count": 203,
      "outputs": [
        {
          "output_type": "stream",
          "text": [
            "Class 0: 0.9982725143693799\n",
            "Class 1: 0.001727485630620034\n"
          ],
          "name": "stdout"
        },
        {
          "output_type": "display_data",
          "data": {
            "image/png": "[encoded data removed]",
            "text/plain": [
              "<Figure size 432x288 with 1 Axes>"
            ]
          },
          "metadata": {
            "tags": [],
            "needs_background": "light"
          }
        }
      ]
    },
    {
      "cell_type": "markdown",
      "metadata": {
        "id": "AasYnpEZKkJz"
      },
      "source": [
        "1. 樣本極度不均，可以用sampling處理\n",
        "2. 需要處理amount標準化"
      ]
    },
    {
      "cell_type": "code",
      "metadata": {
        "id": "iq10bBsKKaBC"
      },
      "source": [
        "from sklearn.preprocessing import StandardScaler"
      ],
      "execution_count": 204,
      "outputs": []
    },
    {
      "cell_type": "code",
      "metadata": {
        "id": "pkcTOlixKaDS"
      },
      "source": [
        "data['normAmount'] = StandardScaler().fit_transform(data['Amount'].values.reshape(-1,1))"
      ],
      "execution_count": 205,
      "outputs": []
    },
    {
      "cell_type": "code",
      "metadata": {
        "id": "7m5zPpdhKaFp"
      },
      "source": [
        "data = data.drop(['Time','Amount'],axis=1)"
      ],
      "execution_count": 206,
      "outputs": []
    },
    {
      "cell_type": "code",
      "metadata": {
        "id": "gv8Pl1JNKaHz",
        "outputId": "384bf491-2ccf-4371-8067-d0c09336f1cc",
        "colab": {
          "base_uri": "https://localhost:8080/",
          "height": 224
        }
      },
      "source": [
        "data.head()"
      ],
      "execution_count": 207,
      "outputs": [
        {
          "output_type": "execute_result",
          "data": {
            "text/html": [
              "<div>\n",
              "<style scoped>\n",
              "    .dataframe tbody tr th:only-of-type {\n",
              "        vertical-align: middle;\n",
              "    }\n",
              "\n",
              "    .dataframe tbody tr th {\n",
              "        vertical-align: top;\n",
              "    }\n",
              "\n",
              "    .dataframe thead th {\n",
              "        text-align: right;\n",
              "    }\n",
              "</style>\n",
              "<table border=\"1\" class=\"dataframe\">\n",
              "  <thead>\n",
              "    <tr style=\"text-align: right;\">\n",
              "      <th></th>\n",
              "      <th>V1</th>\n",
              "      <th>V2</th>\n",
              "      <th>V3</th>\n",
              "      <th>V4</th>\n",
              "      <th>V5</th>\n",
              "      <th>V6</th>\n",
              "      <th>V7</th>\n",
              "      <th>V8</th>\n",
              "      <th>V9</th>\n",
              "      <th>V10</th>\n",
              "      <th>V11</th>\n",
              "      <th>V12</th>\n",
              "      <th>V13</th>\n",
              "      <th>V14</th>\n",
              "      <th>V15</th>\n",
              "      <th>V16</th>\n",
              "      <th>V17</th>\n",
              "      <th>V18</th>\n",
              "      <th>V19</th>\n",
              "      <th>V20</th>\n",
              "      <th>V21</th>\n",
              "      <th>V22</th>\n",
              "      <th>V23</th>\n",
              "      <th>V24</th>\n",
              "      <th>V25</th>\n",
              "      <th>V26</th>\n",
              "      <th>V27</th>\n",
              "      <th>V28</th>\n",
              "      <th>Class</th>\n",
              "      <th>normAmount</th>\n",
              "    </tr>\n",
              "  </thead>\n",
              "  <tbody>\n",
              "    <tr>\n",
              "      <th>0</th>\n",
              "      <td>-1.359807</td>\n",
              "      <td>-0.072781</td>\n",
              "      <td>2.536347</td>\n",
              "      <td>1.378155</td>\n",
              "      <td>-0.338321</td>\n",
              "      <td>0.462388</td>\n",
              "      <td>0.239599</td>\n",
              "      <td>0.098698</td>\n",
              "      <td>0.363787</td>\n",
              "      <td>0.090794</td>\n",
              "      <td>-0.551600</td>\n",
              "      <td>-0.617801</td>\n",
              "      <td>-0.991390</td>\n",
              "      <td>-0.311169</td>\n",
              "      <td>1.468177</td>\n",
              "      <td>-0.470401</td>\n",
              "      <td>0.207971</td>\n",
              "      <td>0.025791</td>\n",
              "      <td>0.403993</td>\n",
              "      <td>0.251412</td>\n",
              "      <td>-0.018307</td>\n",
              "      <td>0.277838</td>\n",
              "      <td>-0.110474</td>\n",
              "      <td>0.066928</td>\n",
              "      <td>0.128539</td>\n",
              "      <td>-0.189115</td>\n",
              "      <td>0.133558</td>\n",
              "      <td>-0.021053</td>\n",
              "      <td>0</td>\n",
              "      <td>0.244964</td>\n",
              "    </tr>\n",
              "    <tr>\n",
              "      <th>1</th>\n",
              "      <td>1.191857</td>\n",
              "      <td>0.266151</td>\n",
              "      <td>0.166480</td>\n",
              "      <td>0.448154</td>\n",
              "      <td>0.060018</td>\n",
              "      <td>-0.082361</td>\n",
              "      <td>-0.078803</td>\n",
              "      <td>0.085102</td>\n",
              "      <td>-0.255425</td>\n",
              "      <td>-0.166974</td>\n",
              "      <td>1.612727</td>\n",
              "      <td>1.065235</td>\n",
              "      <td>0.489095</td>\n",
              "      <td>-0.143772</td>\n",
              "      <td>0.635558</td>\n",
              "      <td>0.463917</td>\n",
              "      <td>-0.114805</td>\n",
              "      <td>-0.183361</td>\n",
              "      <td>-0.145783</td>\n",
              "      <td>-0.069083</td>\n",
              "      <td>-0.225775</td>\n",
              "      <td>-0.638672</td>\n",
              "      <td>0.101288</td>\n",
              "      <td>-0.339846</td>\n",
              "      <td>0.167170</td>\n",
              "      <td>0.125895</td>\n",
              "      <td>-0.008983</td>\n",
              "      <td>0.014724</td>\n",
              "      <td>0</td>\n",
              "      <td>-0.342475</td>\n",
              "    </tr>\n",
              "    <tr>\n",
              "      <th>2</th>\n",
              "      <td>-1.358354</td>\n",
              "      <td>-1.340163</td>\n",
              "      <td>1.773209</td>\n",
              "      <td>0.379780</td>\n",
              "      <td>-0.503198</td>\n",
              "      <td>1.800499</td>\n",
              "      <td>0.791461</td>\n",
              "      <td>0.247676</td>\n",
              "      <td>-1.514654</td>\n",
              "      <td>0.207643</td>\n",
              "      <td>0.624501</td>\n",
              "      <td>0.066084</td>\n",
              "      <td>0.717293</td>\n",
              "      <td>-0.165946</td>\n",
              "      <td>2.345865</td>\n",
              "      <td>-2.890083</td>\n",
              "      <td>1.109969</td>\n",
              "      <td>-0.121359</td>\n",
              "      <td>-2.261857</td>\n",
              "      <td>0.524980</td>\n",
              "      <td>0.247998</td>\n",
              "      <td>0.771679</td>\n",
              "      <td>0.909412</td>\n",
              "      <td>-0.689281</td>\n",
              "      <td>-0.327642</td>\n",
              "      <td>-0.139097</td>\n",
              "      <td>-0.055353</td>\n",
              "      <td>-0.059752</td>\n",
              "      <td>0</td>\n",
              "      <td>1.160686</td>\n",
              "    </tr>\n",
              "    <tr>\n",
              "      <th>3</th>\n",
              "      <td>-0.966272</td>\n",
              "      <td>-0.185226</td>\n",
              "      <td>1.792993</td>\n",
              "      <td>-0.863291</td>\n",
              "      <td>-0.010309</td>\n",
              "      <td>1.247203</td>\n",
              "      <td>0.237609</td>\n",
              "      <td>0.377436</td>\n",
              "      <td>-1.387024</td>\n",
              "      <td>-0.054952</td>\n",
              "      <td>-0.226487</td>\n",
              "      <td>0.178228</td>\n",
              "      <td>0.507757</td>\n",
              "      <td>-0.287924</td>\n",
              "      <td>-0.631418</td>\n",
              "      <td>-1.059647</td>\n",
              "      <td>-0.684093</td>\n",
              "      <td>1.965775</td>\n",
              "      <td>-1.232622</td>\n",
              "      <td>-0.208038</td>\n",
              "      <td>-0.108300</td>\n",
              "      <td>0.005274</td>\n",
              "      <td>-0.190321</td>\n",
              "      <td>-1.175575</td>\n",
              "      <td>0.647376</td>\n",
              "      <td>-0.221929</td>\n",
              "      <td>0.062723</td>\n",
              "      <td>0.061458</td>\n",
              "      <td>0</td>\n",
              "      <td>0.140534</td>\n",
              "    </tr>\n",
              "    <tr>\n",
              "      <th>4</th>\n",
              "      <td>-1.158233</td>\n",
              "      <td>0.877737</td>\n",
              "      <td>1.548718</td>\n",
              "      <td>0.403034</td>\n",
              "      <td>-0.407193</td>\n",
              "      <td>0.095921</td>\n",
              "      <td>0.592941</td>\n",
              "      <td>-0.270533</td>\n",
              "      <td>0.817739</td>\n",
              "      <td>0.753074</td>\n",
              "      <td>-0.822843</td>\n",
              "      <td>0.538196</td>\n",
              "      <td>1.345852</td>\n",
              "      <td>-1.119670</td>\n",
              "      <td>0.175121</td>\n",
              "      <td>-0.451449</td>\n",
              "      <td>-0.237033</td>\n",
              "      <td>-0.038195</td>\n",
              "      <td>0.803487</td>\n",
              "      <td>0.408542</td>\n",
              "      <td>-0.009431</td>\n",
              "      <td>0.798278</td>\n",
              "      <td>-0.137458</td>\n",
              "      <td>0.141267</td>\n",
              "      <td>-0.206010</td>\n",
              "      <td>0.502292</td>\n",
              "      <td>0.219422</td>\n",
              "      <td>0.215153</td>\n",
              "      <td>0</td>\n",
              "      <td>-0.073403</td>\n",
              "    </tr>\n",
              "  </tbody>\n",
              "</table>\n",
              "</div>"
            ],
            "text/plain": [
              "         V1        V2        V3  ...       V28  Class  normAmount\n",
              "0 -1.359807 -0.072781  2.536347  ... -0.021053      0    0.244964\n",
              "1  1.191857  0.266151  0.166480  ...  0.014724      0   -0.342475\n",
              "2 -1.358354 -1.340163  1.773209  ... -0.059752      0    1.160686\n",
              "3 -0.966272 -0.185226  1.792993  ...  0.061458      0    0.140534\n",
              "4 -1.158233  0.877737  1.548718  ...  0.215153      0   -0.073403\n",
              "\n",
              "[5 rows x 30 columns]"
            ]
          },
          "metadata": {
            "tags": []
          },
          "execution_count": 207
        }
      ]
    },
    {
      "cell_type": "code",
      "metadata": {
        "id": "w9isUH-rKvAU"
      },
      "source": [
        "X = data.iloc[:, data.columns != 'Class']\n",
        "y = data.iloc[:, data.columns == 'Class']"
      ],
      "execution_count": 208,
      "outputs": []
    },
    {
      "cell_type": "markdown",
      "metadata": {
        "id": "BpDeCigPKylC"
      },
      "source": [
        "## 下採樣 Under sampling"
      ]
    },
    {
      "cell_type": "code",
      "metadata": {
        "id": "Iq5hxLVBKv8q",
        "outputId": "49ea3608-d0ee-49f3-beb9-4d8b60686d10",
        "colab": {
          "base_uri": "https://localhost:8080/",
          "height": 1000
        }
      },
      "source": [
        "# 異常樣本索引\n",
        "fraud_indices = np.array(y[y.Class == 1].index)\n",
        "fraud_indices"
      ],
      "execution_count": 209,
      "outputs": [
        {
          "output_type": "execute_result",
          "data": {
            "text/plain": [
              "array([   541,    623,   4920,   6108,   6329,   6331,   6334,   6336,\n",
              "         6338,   6427,   6446,   6472,   6529,   6609,   6641,   6717,\n",
              "         6719,   6734,   6774,   6820,   6870,   6882,   6899,   6903,\n",
              "         6971,   8296,   8312,   8335,   8615,   8617,   8842,   8845,\n",
              "         8972,   9035,   9179,   9252,   9487,   9509,  10204,  10484,\n",
              "        10497,  10498,  10568,  10630,  10690,  10801,  10891,  10897,\n",
              "        11343,  11710,  11841,  11880,  12070,  12108,  12261,  12369,\n",
              "        14104,  14170,  14197,  14211,  14338,  15166,  15204,  15225,\n",
              "        15451,  15476,  15506,  15539,  15566,  15736,  15751,  15781,\n",
              "        15810,  16415,  16780,  16863,  17317,  17366,  17407,  17453,\n",
              "        17480,  18466,  18472,  18773,  18809,  20198,  23308,  23422,\n",
              "        26802,  27362,  27627,  27738,  27749,  29687,  30100,  30314,\n",
              "        30384,  30398,  30442,  30473,  30496,  31002,  33276,  39183,\n",
              "        40085,  40525,  41395,  41569,  41943,  42007,  42009,  42473,\n",
              "        42528,  42549,  42590,  42609,  42635,  42674,  42696,  42700,\n",
              "        42741,  42756,  42769,  42784,  42856,  42887,  42936,  42945,\n",
              "        42958,  43061,  43160,  43204,  43428,  43624,  43681,  43773,\n",
              "        44001,  44091,  44223,  44270,  44556,  45203,  45732,  46909,\n",
              "        46918,  46998,  47802,  48094,  50211,  50537,  52466,  52521,\n",
              "        52584,  53591,  53794,  55401,  56703,  57248,  57470,  57615,\n",
              "        58422,  58761,  59539,  61787,  63421,  63634,  64329,  64411,\n",
              "        64460,  68067,  68320,  68522,  68633,  69498,  69980,  70141,\n",
              "        70589,  72757,  73784,  73857,  74496,  74507,  74794,  75511,\n",
              "        76555,  76609,  76929,  77099,  77348,  77387,  77682,  79525,\n",
              "        79536,  79835,  79874,  79883,  80760,  81186,  81609,  82400,\n",
              "        83053,  83297,  83417,  84543,  86155,  87354,  88258,  88307,\n",
              "        88876,  88897,  89190,  91671,  92777,  93424,  93486,  93788,\n",
              "        94218,  95534,  95597,  96341,  96789,  96994,  99506, 100623,\n",
              "       101509, 102441, 102442, 102443, 102444, 102445, 102446, 102782,\n",
              "       105178, 106679, 106998, 107067, 107637, 108258, 108708, 111690,\n",
              "       112840, 114271, 116139, 116404, 118308, 119714, 119781, 120505,\n",
              "       120837, 122479, 123141, 123201, 123238, 123270, 123301, 124036,\n",
              "       124087, 124115, 124176, 125342, 128479, 131272, 135718, 137705,\n",
              "       140786, 141257, 141258, 141259, 141260, 142405, 142557, 143188,\n",
              "       143333, 143334, 143335, 143336, 143728, 143731, 144104, 144108,\n",
              "       144754, 145800, 146790, 147548, 147605, 149145, 149357, 149522,\n",
              "       149577, 149587, 149600, 149869, 149874, 150601, 150644, 150647,\n",
              "       150654, 150660, 150661, 150662, 150663, 150665, 150666, 150667,\n",
              "       150668, 150669, 150677, 150678, 150679, 150680, 150684, 150687,\n",
              "       150692, 150697, 150715, 150925, 151006, 151007, 151008, 151009,\n",
              "       151011, 151103, 151196, 151462, 151519, 151730, 151807, 152019,\n",
              "       152223, 152295, 153823, 153835, 153885, 154234, 154286, 154371,\n",
              "       154454, 154587, 154633, 154668, 154670, 154676, 154684, 154693,\n",
              "       154694, 154697, 154718, 154719, 154720, 154960, 156988, 156990,\n",
              "       157585, 157868, 157871, 157918, 163149, 163586, 167184, 167305,\n",
              "       172787, 176049, 177195, 178208, 181966, 182992, 183106, 184379,\n",
              "       189587, 189701, 189878, 190368, 191074, 191267, 191359, 191544,\n",
              "       191690, 192382, 192529, 192584, 192687, 195383, 197586, 198868,\n",
              "       199896, 201098, 201601, 203324, 203328, 203700, 204064, 204079,\n",
              "       204503, 208651, 212516, 212644, 213092, 213116, 214662, 214775,\n",
              "       215132, 215953, 215984, 218442, 219025, 219892, 220725, 221018,\n",
              "       221041, 222133, 222419, 223366, 223572, 223578, 223618, 226814,\n",
              "       226877, 229712, 229730, 230076, 230476, 231978, 233258, 234574,\n",
              "       234632, 234633, 234705, 235616, 235634, 235644, 237107, 237426,\n",
              "       238222, 238366, 238466, 239499, 239501, 240222, 241254, 241445,\n",
              "       243393, 243547, 243699, 243749, 243848, 244004, 244333, 245347,\n",
              "       245556, 247673, 247995, 248296, 248971, 249167, 249239, 249607,\n",
              "       249828, 249963, 250761, 251477, 251866, 251881, 251891, 251904,\n",
              "       252124, 252774, 254344, 254395, 255403, 255556, 258403, 261056,\n",
              "       261473, 261925, 262560, 262826, 263080, 263274, 263324, 263877,\n",
              "       268375, 272521, 274382, 274475, 275992, 276071, 276864, 279863,\n",
              "       280143, 280149, 281144, 281674])"
            ]
          },
          "metadata": {
            "tags": []
          },
          "execution_count": 209
        }
      ]
    },
    {
      "cell_type": "code",
      "metadata": {
        "id": "bd2zZgF7Kxjz",
        "outputId": "55a665c9-303e-4290-d2d5-41ce4aed803f",
        "colab": {
          "base_uri": "https://localhost:8080/",
          "height": 34
        }
      },
      "source": [
        "# 正常樣本索引\n",
        "normal_indices = np.array(y[y.Class == 0].index)\n",
        "normal_indices"
      ],
      "execution_count": 210,
      "outputs": [
        {
          "output_type": "execute_result",
          "data": {
            "text/plain": [
              "array([     0,      1,      2, ..., 284804, 284805, 284806])"
            ]
          },
          "metadata": {
            "tags": []
          },
          "execution_count": 210
        }
      ]
    },
    {
      "cell_type": "code",
      "metadata": {
        "id": "h_i5bLP3KxmT",
        "outputId": "900d467e-4c32-44c0-ff8d-fe8450be6b14",
        "colab": {
          "base_uri": "https://localhost:8080/",
          "height": 1000
        }
      },
      "source": [
        "# 異常樣本數量\n",
        "number_records_fraud = len(fraud_indices)\n",
        "\n",
        "# 取出與異常樣本數量相同的正常樣本\n",
        "random_normal_indices = np.array(np.random.choice(normal_indices,number_records_fraud,replace=False))\n",
        "random_normal_indices"
      ],
      "execution_count": 211,
      "outputs": [
        {
          "output_type": "execute_result",
          "data": {
            "text/plain": [
              "array([ 10099, 144024,   7875,  47473, 234448, 245481,  48389, 130762,\n",
              "       139368,  25180,  72468,  97509, 268009, 265430,  71669,  94368,\n",
              "        21742, 174616, 124427,  81224, 114616,  12660, 229294, 282397,\n",
              "       137657, 264434, 131598, 165764,  38386, 174605,  51322, 181203,\n",
              "       141645, 184724, 213462, 204668, 111341, 231295, 226882,  51385,\n",
              "       248028, 172283, 132428,  98089, 257199,  77386, 191981, 101628,\n",
              "        84691,  66681, 275413, 148670,  87732, 210960, 161134, 171437,\n",
              "        75152, 214669,  48188, 223013,   1359, 128241, 155182,  65128,\n",
              "       130146,  12379,    744, 264215, 113690,  51195,  57206, 177014,\n",
              "        36549,  53533, 214066, 115976,  22809,  76861, 105911, 154456,\n",
              "       262772, 107544,   4124, 196574, 223120, 255435, 175938, 171130,\n",
              "       242929, 203901, 233622, 237767, 184842,  82203,  52421, 135436,\n",
              "        50879,  27163, 154272,  26246,  73315, 246216, 183598, 276789,\n",
              "       241644,  71415,  60955, 231224, 154269, 213518, 266386, 199376,\n",
              "       272170,  59219, 204018, 103998, 174282, 175703, 236011, 278859,\n",
              "       271930, 200571,  59987,  28576,  30049,  36763,  11827, 224601,\n",
              "        68945, 232163,   4991,  57709, 227452, 144605, 259958, 161798,\n",
              "       256266, 154174, 280361,  73643,  25671, 131814, 241074,  14652,\n",
              "       202192, 212329,  41302,  39354, 238916,   9659, 128985, 230228,\n",
              "        43161,  87671,  51241, 180659,   6718, 283217,  86232,  77353,\n",
              "         9959,  99765, 135232, 137768,  38129, 144808,  51737,  86849,\n",
              "        39903, 201512, 236395,  55447, 178258, 283787, 284208,  59044,\n",
              "       186200, 123937, 167218,  94692, 191345, 226769, 235584,  21551,\n",
              "       136375, 130386, 238022, 184314, 273811,  77743, 280929, 109708,\n",
              "       150262,  99032, 163316, 120067, 224753, 223310, 112267, 245399,\n",
              "        90913,  57949, 189348,  22620,  72359,  33189, 194958, 168467,\n",
              "       254052, 265649,  80939, 156020,  50915,  22394,  12303, 170984,\n",
              "       150629, 175509,  30556,  44549, 126287, 223063, 141248,  18157,\n",
              "        30356,  83602, 120355,  64762,  27380,  25479,  31919,  61089,\n",
              "        16036, 139934,  67732, 115997, 105927, 155651, 229428, 256166,\n",
              "       244119,  48605, 162243, 190859, 263404, 115474, 149494, 272280,\n",
              "       229226, 283194, 167971, 139126,  91185, 191854, 111747,  90863,\n",
              "       280486,  36932, 147317, 221226,  32584,  55064,  26295, 248576,\n",
              "       106904, 172923, 127627, 253622, 189096, 257376,  85071,  54891,\n",
              "       183917, 213068, 199708, 256708, 281259, 108526, 168638, 253422,\n",
              "       227447, 222484, 218779,  23674, 259439, 199837,  31511, 141319,\n",
              "       275186, 224013,  24511,  99270, 221880, 146371,  30489, 152384,\n",
              "       183547, 130026, 134803,   6701, 281287, 101929, 222871, 250417,\n",
              "        93449,  81090, 240746, 130297, 282428, 126665, 204184, 284233,\n",
              "        96391,  90937, 185442, 216538,  66628,  10388, 251603, 180578,\n",
              "        21012, 162864, 171137, 272969, 197874, 125609, 194464, 110727,\n",
              "        50676,  99143,  51106,  68500, 244568, 201216,  23403, 186173,\n",
              "        87096,  48979, 135753, 161696, 270484, 279527, 247581,  99331,\n",
              "       255128,  76687,  21644, 230995, 283910, 231002, 230213, 228113,\n",
              "       194655,  12163, 282499, 119283,  86477,  22103, 208320, 151853,\n",
              "       281030,   3777, 188142,  93253, 155218,  73508, 273043, 203978,\n",
              "       242552, 149813, 183603,  28875,  33217, 172279, 117579,  49235,\n",
              "        96100,  90694,   7938, 194316, 156864, 156637,  28047, 227876,\n",
              "       195567, 194451, 276921, 193796,    971, 185675,  42977, 132214,\n",
              "       216045,  41447, 283423, 201892, 249642, 112441, 156187,  66054,\n",
              "       166494, 233290, 112481, 240642, 282400,   6432, 232784, 162684,\n",
              "        35497, 194607,  42429,  18015, 142279, 248579,  47193,   9878,\n",
              "       160354, 193494, 276682, 199543, 172557, 227142,  59018, 104755,\n",
              "       262738, 139811,  45298,  87776, 133442,   6223, 154956, 128002,\n",
              "       129134, 258070, 148924, 228446, 184723,   2904, 172982, 114548,\n",
              "       142568, 242332,  94894, 194424, 204465, 111958, 133397, 175462,\n",
              "       158275, 190592,  60691,  12581, 127827, 254796,  12239,  61173,\n",
              "        77578, 158687, 158040,   5241,   5211, 122914,  54348,  49497,\n",
              "        19626, 232375,  10140,  55985, 249782, 272136, 177624, 281325,\n",
              "       105669,  90124, 147335, 104083, 224871, 262886, 111631,  69179,\n",
              "       140803, 208438, 183864, 263565, 221462, 190336,  85768,   6756,\n",
              "        66711, 210948,  13221,  85385])"
            ]
          },
          "metadata": {
            "tags": []
          },
          "execution_count": 211
        }
      ]
    },
    {
      "cell_type": "code",
      "metadata": {
        "id": "seJHHhnsKxok"
      },
      "source": [
        "under_sample_indices = np.concatenate([fraud_indices,random_normal_indices])"
      ],
      "execution_count": 212,
      "outputs": []
    },
    {
      "cell_type": "code",
      "metadata": {
        "id": "wXTousB5KxtS"
      },
      "source": [
        "X_undersample = X.iloc[under_sample_indices,:]\n",
        "y_undersample = y.iloc[under_sample_indices,:]"
      ],
      "execution_count": 213,
      "outputs": []
    },
    {
      "cell_type": "code",
      "metadata": {
        "id": "EQz0ZDeaKxvq",
        "outputId": "0a6ec2c6-6f74-43c0-bc3c-c6e78c626d63",
        "colab": {
          "base_uri": "https://localhost:8080/",
          "height": 34
        }
      },
      "source": [
        "print('下採樣後正常、異常樣本比例: ',len(y_undersample[y_undersample.Class == 0])/len(y_undersample),len(y_undersample[y_undersample.Class == 1])/len(y_undersample))"
      ],
      "execution_count": 214,
      "outputs": [
        {
          "output_type": "stream",
          "text": [
            "下採樣後正常、異常樣本比例:  0.5 0.5\n"
          ],
          "name": "stdout"
        }
      ]
    },
    {
      "cell_type": "markdown",
      "metadata": {
        "id": "eAZJ2_Wtapls"
      },
      "source": [
        "## Cross validation"
      ]
    },
    {
      "cell_type": "code",
      "metadata": {
        "id": "5ncUhN3wKxx8"
      },
      "source": [
        "from sklearn.model_selection import train_test_split"
      ],
      "execution_count": 215,
      "outputs": []
    },
    {
      "cell_type": "code",
      "metadata": {
        "id": "9ZNWWbhabxV6"
      },
      "source": [
        "X_train, X_test, y_train, y_test = train_test_split(X, y, test_size = 0.3, random_state = 0)"
      ],
      "execution_count": 216,
      "outputs": []
    },
    {
      "cell_type": "code",
      "metadata": {
        "id": "FEET1QLCcU_L"
      },
      "source": [
        "X_train_undersample, X_test_undersample, y_train_undersample, y_test_undersample = train_test_split(X_undersample, y_undersample, test_size = 0.3, random_state = 0)"
      ],
      "execution_count": 217,
      "outputs": []
    },
    {
      "cell_type": "markdown",
      "metadata": {
        "id": "yPYfRyaidPDS"
      },
      "source": [
        "## 模型訓練"
      ]
    },
    {
      "cell_type": "code",
      "metadata": {
        "id": "fSD3SJpKcVB7"
      },
      "source": [
        "from sklearn.linear_model import LogisticRegression\n",
        "from sklearn.model_selection import KFold, cross_val_score, cross_val_predict\n",
        "from sklearn.metrics import confusion_matrix, recall_score, classification_report"
      ],
      "execution_count": 218,
      "outputs": []
    },
    {
      "cell_type": "code",
      "metadata": {
        "id": "ABrX4nygcVEa"
      },
      "source": [
        "def printing_Kfold_scores(x_train_data, y_train_data):\n",
        "  fold = KFold(5, shuffle=False)\n",
        "\n",
        "  # 回歸參數 正則化懲罰項\n",
        "  c_param_range = [0.01, 0.1, 1, 10, 100]\n",
        "\n",
        "  # 呈現結果\n",
        "  results_table = pd.DataFrame(index = range(len(c_param_range),2), columns = ['C_parameter','Mean recall score'])\n",
        "  results_table['C_parameter'] = c_param_range\n",
        "\n",
        "  j = 0\n",
        "  for c_param in c_param_range:\n",
        "    print('--------------------------------')\n",
        "    print('正則化懲罰項: ', c_param)\n",
        "    print('--------------------------------')\n",
        "    print('')\n",
        "\n",
        "    recall_accs = []\n",
        "    for iteration, indices in enumerate(fold.split(y_train_data)):\n",
        "      lr = LogisticRegression(C=c_param, penalty='l1', solver='liblinear')\n",
        "      lr.fit(x_train_data.iloc[indices[0],:], y_train_data.iloc[indices[0],:].values.ravel())\n",
        "      y_pred = lr.predict(x_train_data.iloc[indices[1],:])\n",
        "      recall_acc = recall_score(y_train_data.iloc[indices[1],:].values,y_pred)\n",
        "      recall_accs.append(recall_acc)\n",
        "      print('Iteration ',iteration,': 召回率 = ',recall_acc)\n",
        "    \n",
        "    results_table.loc[j,'Mean recall score'] = np.mean(recall_accs)\n",
        "    j += 1\n",
        "    print('')\n",
        "    print('平均召回率 ', np.mean(recall_accs))\n",
        "    print('')\n",
        "\n",
        "  best_c = results_table.loc[results_table['Mean recall score'].astype('float32').idxmax()]['C_parameter']\n",
        "  best_recall = results_table.loc[results_table['Mean recall score'].astype('float32').idxmax()]['Mean recall score']\n",
        "\n",
        "  print('*********************************************************************************')\n",
        "  print('最佳模型參數 = ', best_c)\n",
        "  print('最佳平均召回率 = ', best_recall)\n",
        "  print('*********************************************************************************')\n",
        "\n",
        "  return best_c\n",
        "\n"
      ],
      "execution_count": 219,
      "outputs": []
    },
    {
      "cell_type": "code",
      "metadata": {
        "id": "kbQZcCqyjmK3",
        "outputId": "ea8494b5-e6c7-485c-f0e9-48f31c5d6304",
        "colab": {
          "base_uri": "https://localhost:8080/",
          "height": 1000
        }
      },
      "source": [
        "best_c = printing_Kfold_scores(X_train_undersample,y_train_undersample)"
      ],
      "execution_count": 220,
      "outputs": [
        {
          "output_type": "stream",
          "text": [
            "--------------------------------\n",
            "正則化懲罰項:  0.01\n",
            "--------------------------------\n",
            "\n",
            "Iteration  0 : 召回率 =  0.9315068493150684\n",
            "Iteration  1 : 召回率 =  0.9178082191780822\n",
            "Iteration  2 : 召回率 =  0.9830508474576272\n",
            "Iteration  3 : 召回率 =  0.9594594594594594\n",
            "Iteration  4 : 召回率 =  0.9545454545454546\n",
            "\n",
            "平均召回率  0.9492741659911385\n",
            "\n",
            "--------------------------------\n",
            "正則化懲罰項:  0.1\n",
            "--------------------------------\n",
            "\n",
            "Iteration  0 : 召回率 =  0.8493150684931506\n",
            "Iteration  1 : 召回率 =  0.863013698630137\n",
            "Iteration  2 : 召回率 =  0.9322033898305084\n",
            "Iteration  3 : 召回率 =  0.9324324324324325\n",
            "Iteration  4 : 召回率 =  0.9090909090909091\n",
            "\n",
            "平均召回率  0.8972110996954274\n",
            "\n",
            "--------------------------------\n",
            "正則化懲罰項:  1\n",
            "--------------------------------\n",
            "\n",
            "Iteration  0 : 召回率 =  0.8493150684931506\n",
            "Iteration  1 : 召回率 =  0.863013698630137\n",
            "Iteration  2 : 召回率 =  0.9491525423728814\n",
            "Iteration  3 : 召回率 =  0.9324324324324325\n",
            "Iteration  4 : 召回率 =  0.9090909090909091\n",
            "\n",
            "平均召回率  0.900600930203902\n",
            "\n",
            "--------------------------------\n",
            "正則化懲罰項:  10\n",
            "--------------------------------\n",
            "\n",
            "Iteration  0 : 召回率 =  0.8493150684931506\n",
            "Iteration  1 : 召回率 =  0.8767123287671232\n",
            "Iteration  2 : 召回率 =  0.9661016949152542\n",
            "Iteration  3 : 召回率 =  0.918918918918919\n",
            "Iteration  4 : 召回率 =  0.9393939393939394\n",
            "\n",
            "平均召回率  0.9100883900976772\n",
            "\n",
            "--------------------------------\n",
            "正則化懲罰項:  100\n",
            "--------------------------------\n",
            "\n",
            "Iteration  0 : 召回率 =  0.863013698630137\n",
            "Iteration  1 : 召回率 =  0.8767123287671232\n",
            "Iteration  2 : 召回率 =  0.9661016949152542\n",
            "Iteration  3 : 召回率 =  0.9324324324324325\n",
            "Iteration  4 : 召回率 =  0.9393939393939394\n",
            "\n",
            "平均召回率  0.9155308188277772\n",
            "\n",
            "*********************************************************************************\n",
            "最佳模型參數 =  0.01\n",
            "最佳平均召回率 =  0.9492741659911385\n",
            "*********************************************************************************\n"
          ],
          "name": "stdout"
        }
      ]
    },
    {
      "cell_type": "markdown",
      "metadata": {
        "id": "vh7t2ojNs5W2"
      },
      "source": [
        "## 混淆矩陣"
      ]
    },
    {
      "cell_type": "code",
      "metadata": {
        "id": "fOxXtfLcqO-g"
      },
      "source": [
        "lr = LogisticRegression(C=best_c, penalty='l1', solver='liblinear')\n",
        "lr.fit(X_train_undersample,y_train_undersample.values.ravel())\n",
        "y_pred_undersample = lr.predict(X_test_undersample)"
      ],
      "execution_count": 221,
      "outputs": []
    },
    {
      "cell_type": "code",
      "metadata": {
        "id": "TcNFFNSBrEUg",
        "outputId": "b6c431cd-80cc-4784-a2f0-3e6a60b8d200",
        "colab": {
          "base_uri": "https://localhost:8080/",
          "height": 51
        }
      },
      "source": [
        "cnf_matrix = confusion_matrix(y_test_undersample,y_pred_undersample)\n",
        "cnf_matrix"
      ],
      "execution_count": 222,
      "outputs": [
        {
          "output_type": "execute_result",
          "data": {
            "text/plain": [
              "array([[130,  19],\n",
              "       [ 11, 136]])"
            ]
          },
          "metadata": {
            "tags": []
          },
          "execution_count": 222
        }
      ]
    },
    {
      "cell_type": "code",
      "metadata": {
        "id": "uYChYsu4rEW1",
        "outputId": "979166d7-7d76-4f3b-9bb6-ccd17fea2c56",
        "colab": {
          "base_uri": "https://localhost:8080/",
          "height": 34
        }
      },
      "source": [
        "print(\"召回率: \", cnf_matrix[1,1]/(cnf_matrix[1,0]+cnf_matrix[1,1]))"
      ],
      "execution_count": 223,
      "outputs": [
        {
          "output_type": "stream",
          "text": [
            "召回率:  0.9251700680272109\n"
          ],
          "name": "stdout"
        }
      ]
    },
    {
      "cell_type": "code",
      "metadata": {
        "id": "3ELsfm9jrEZG"
      },
      "source": [
        "import itertools\n",
        "def plot_confusion_matrix(cm, classes,\n",
        "                          normalize=False,\n",
        "                          title='Confusion matrix',\n",
        "                          cmap=plt.cm.Blues):\n",
        "    \"\"\"\n",
        "    This function prints and plots the confusion matrix.\n",
        "    Normalization can be applied by setting `normalize=True`.\n",
        "    \"\"\"\n",
        "    if normalize:\n",
        "        cm = cm.astype('float') / cm.sum(axis=1)[:, np.newaxis]\n",
        "        # print(\"Normalized confusion matrix\")\n",
        "    else:\n",
        "        # print('Confusion matrix, without normalization')\n",
        "        next\n",
        "\n",
        "    # print(cm)\n",
        "\n",
        "    plt.imshow(cm, interpolation='nearest', cmap=cmap)\n",
        "    plt.title(title)\n",
        "    plt.colorbar()\n",
        "    tick_marks = np.arange(len(classes))\n",
        "    plt.xticks(tick_marks, classes, rotation=45)\n",
        "    plt.yticks(tick_marks, classes)\n",
        "\n",
        "    fmt = '.2f' if normalize else 'd'\n",
        "    thresh = cm.max() / 2.\n",
        "    for i, j in itertools.product(range(cm.shape[0]), range(cm.shape[1])):\n",
        "        plt.text(j, i, format(cm[i, j], fmt),\n",
        "                 horizontalalignment=\"center\",\n",
        "                 color=\"white\" if cm[i, j] > thresh else \"black\")\n",
        "\n",
        "    plt.ylabel('True label')\n",
        "    plt.xlabel('Predicted label')\n",
        "    plt.tight_layout()"
      ],
      "execution_count": 224,
      "outputs": []
    },
    {
      "cell_type": "code",
      "metadata": {
        "id": "btOt5Ga6rEdu",
        "outputId": "78febf25-612f-4b62-b101-291c6c1e27ff",
        "colab": {
          "base_uri": "https://localhost:8080/",
          "height": 297
        }
      },
      "source": [
        "plot_confusion_matrix(cnf_matrix, classes=[0,1])\n",
        "plt.show()"
      ],
      "execution_count": 225,
      "outputs": [
        {
          "output_type": "display_data",
          "data": {
            "image/png": "[encoded data removed]",
            "text/plain": [
              "<Figure size 432x288 with 2 Axes>"
            ]
          },
          "metadata": {
            "tags": [],
            "needs_background": "light"
          }
        }
      ]
    },
    {
      "cell_type": "markdown",
      "metadata": {
        "id": "eSluNgoVvKQh"
      },
      "source": [
        "## 找閥值"
      ]
    },
    {
      "cell_type": "code",
      "metadata": {
        "id": "lbgZpUZLrEgF"
      },
      "source": [
        "lr = LogisticRegression(C=best_c, penalty='l1', solver='liblinear')\n",
        "lr.fit(X_train_undersample,y_train_undersample.values.ravel())\n",
        "y_pred_undersample = lr.predict(X_test_undersample)\n",
        "y_pred_prob = lr.predict_proba(X_test_undersample)"
      ],
      "execution_count": 226,
      "outputs": []
    },
    {
      "cell_type": "code",
      "metadata": {
        "id": "Ud0Irn15vWt0",
        "outputId": "4501bd22-3437-4c8d-a21f-7b0bbf6a5731",
        "colab": {
          "base_uri": "https://localhost:8080/",
          "height": 34
        }
      },
      "source": [
        "thresholds = np.arange(0.1,1,0.1)\n",
        "plt.figure(figsize=(50,50))\n",
        "j = 1"
      ],
      "execution_count": 227,
      "outputs": [
        {
          "output_type": "display_data",
          "data": {
            "text/plain": [
              "<Figure size 3600x3600 with 0 Axes>"
            ]
          },
          "metadata": {
            "tags": []
          }
        }
      ]
    },
    {
      "cell_type": "code",
      "metadata": {
        "id": "rNJF29tqvkIu",
        "outputId": "437a6da9-c958-4ebd-8137-fd4236c6acf3",
        "colab": {
          "base_uri": "https://localhost:8080/",
          "height": 450
        }
      },
      "source": [
        "for i in thresholds:\n",
        "  y_test_predictions_high_recall = y_pred_prob[:,1] > i\n",
        "  plt.subplot(3,3,j)\n",
        "  j += 1\n",
        "\n",
        "  cnf_matrix = confusion_matrix(y_test_undersample,y_test_predictions_high_recall)\n",
        "  np.set_printoptions(precision=2)\n",
        "\n",
        "  print(\"當閥值為：\",i,\"時，召回率為: \", cnf_matrix[1,1]/(cnf_matrix[1,0]+cnf_matrix[1,1]))\n",
        "  plot_confusion_matrix(cnf_matrix, classes=[0,1])"
      ],
      "execution_count": 228,
      "outputs": [
        {
          "output_type": "stream",
          "text": [
            "當閥值為： 0.1 時，召回率為:  1.0\n",
            "當閥值為： 0.2 時，召回率為:  1.0\n",
            "當閥值為： 0.30000000000000004 時，召回率為:  1.0\n",
            "當閥值為： 0.4 時，召回率為:  0.9727891156462585\n",
            "當閥值為： 0.5 時，召回率為:  0.9251700680272109\n",
            "當閥值為： 0.6 時，召回率為:  0.8843537414965986\n",
            "當閥值為： 0.7000000000000001 時，召回率為:  0.8299319727891157\n",
            "當閥值為： 0.8 時，召回率為:  0.7687074829931972\n",
            "當閥值為： 0.9 時，召回率為:  0.5782312925170068\n"
          ],
          "name": "stdout"
        },
        {
          "output_type": "display_data",
          "data": {
            "image/png": "[encoded data removed]",
            "text/plain": [
              "<Figure size 432x288 with 18 Axes>"
            ]
          },
          "metadata": {
            "tags": [],
            "needs_background": "light"
          }
        }
      ]
    },
    {
      "cell_type": "code",
      "metadata": {
        "id": "9jTJAuzzyFFB"
      },
      "source": [
        ""
      ],
      "execution_count": null,
      "outputs": []
    },
    {
      "cell_type": "markdown",
      "metadata": {
        "id": "y5rrMl8u4u3h"
      },
      "source": [
        "## SMOTE"
      ]
    },
    {
      "cell_type": "code",
      "metadata": {
        "id": "gr73a6Yt4wIW",
        "outputId": "ba25df9a-c2fa-4c17-cc5a-02a4ba4eb968",
        "colab": {
          "base_uri": "https://localhost:8080/",
          "height": 105
        }
      },
      "source": [
        "import pandas as pd\n",
        "from imblearn.over_sampling import SMOTE\n",
        "from sklearn.metrics import confusion_matrix\n",
        "from sklearn.model_selection import train_test_split"
      ],
      "execution_count": 230,
      "outputs": [
        {
          "output_type": "stream",
          "text": [
            "/usr/local/lib/python3.6/dist-packages/sklearn/externals/six.py:31: FutureWarning: The module is deprecated in version 0.21 and will be removed in version 0.23 since we've dropped support for Python 2.7. Please rely on the official version of six (https://pypi.org/project/six/).\n",
            "  \"(https://pypi.org/project/six/).\", FutureWarning)\n",
            "/usr/local/lib/python3.6/dist-packages/sklearn/utils/deprecation.py:144: FutureWarning: The sklearn.neighbors.base module is  deprecated in version 0.22 and will be removed in version 0.24. The corresponding classes / functions should instead be imported from sklearn.neighbors. Anything that cannot be imported from sklearn.neighbors is now part of the private API.\n",
            "  warnings.warn(message, FutureWarning)\n"
          ],
          "name": "stderr"
        }
      ]
    },
    {
      "cell_type": "code",
      "metadata": {
        "id": "vkNtp3B34ym3"
      },
      "source": [
        "features_train, features_test, labels_train, labels_test = train_test_split(X, y, test_size=0.3, random_state=0)"
      ],
      "execution_count": 231,
      "outputs": []
    },
    {
      "cell_type": "code",
      "metadata": {
        "id": "5XvaQqNd4y8p",
        "outputId": "3a9b18b5-1d45-4970-d4fa-54661aec9f04",
        "colab": {
          "base_uri": "https://localhost:8080/",
          "height": 105
        }
      },
      "source": [
        "oversampler=SMOTE(random_state=0)\n",
        "os_features,os_labels=oversampler.fit_sample(features_train,labels_train)"
      ],
      "execution_count": 232,
      "outputs": [
        {
          "output_type": "stream",
          "text": [
            "/usr/local/lib/python3.6/dist-packages/sklearn/utils/validation.py:760: DataConversionWarning: A column-vector y was passed when a 1d array was expected. Please change the shape of y to (n_samples, ), for example using ravel().\n",
            "  y = column_or_1d(y, warn=True)\n",
            "/usr/local/lib/python3.6/dist-packages/sklearn/utils/deprecation.py:87: FutureWarning: Function safe_indexing is deprecated; safe_indexing is deprecated in version 0.22 and will be removed in version 0.24.\n",
            "  warnings.warn(msg, category=FutureWarning)\n"
          ],
          "name": "stderr"
        }
      ]
    },
    {
      "cell_type": "code",
      "metadata": {
        "id": "7Bez72zX4y_T",
        "outputId": "185272a4-3761-43ef-9b80-32a4ccb88c12",
        "colab": {
          "base_uri": "https://localhost:8080/",
          "height": 34
        }
      },
      "source": [
        "len(os_labels[os_labels==1])"
      ],
      "execution_count": 233,
      "outputs": [
        {
          "output_type": "execute_result",
          "data": {
            "text/plain": [
              "199019"
            ]
          },
          "metadata": {
            "tags": []
          },
          "execution_count": 233
        }
      ]
    },
    {
      "cell_type": "code",
      "metadata": {
        "id": "OOr_Fytb4zB-",
        "outputId": "14009c0a-c5cf-4c9f-bb1e-a72fdee45cda",
        "colab": {
          "base_uri": "https://localhost:8080/",
          "height": 1000
        }
      },
      "source": [
        "os_features = pd.DataFrame(os_features)\n",
        "os_labels = pd.DataFrame(os_labels)\n",
        "best_c_os = printing_Kfold_scores(os_features,os_labels)"
      ],
      "execution_count": 235,
      "outputs": [
        {
          "output_type": "stream",
          "text": [
            "--------------------------------\n",
            "正則化懲罰項:  0.01\n",
            "--------------------------------\n",
            "\n",
            "Iteration  0 : 召回率 =  0.9285714285714286\n",
            "Iteration  1 : 召回率 =  0.912\n",
            "Iteration  2 : 召回率 =  0.9129236216489631\n",
            "Iteration  3 : 召回率 =  0.8972577788385443\n",
            "Iteration  4 : 召回率 =  0.8974210810607107\n",
            "\n",
            "平均召回率  0.9096347820239293\n",
            "\n",
            "--------------------------------\n",
            "正則化懲罰項:  0.1\n",
            "--------------------------------\n",
            "\n",
            "Iteration  0 : 召回率 =  0.9285714285714286\n",
            "Iteration  1 : 召回率 =  0.92\n",
            "Iteration  2 : 召回率 =  0.9144916540212443\n",
            "Iteration  3 : 召回率 =  0.8985390731970807\n",
            "Iteration  4 : 召回率 =  0.8988908010602082\n",
            "\n",
            "平均召回率  0.9120985913699924\n",
            "\n",
            "--------------------------------\n",
            "正則化懲罰項:  1\n",
            "--------------------------------\n",
            "\n",
            "Iteration  0 : 召回率 =  0.9285714285714286\n",
            "Iteration  1 : 召回率 =  0.92\n",
            "Iteration  2 : 召回率 =  0.9147192716236723\n",
            "Iteration  3 : 召回率 =  0.8987777456756315\n",
            "Iteration  4 : 召回率 =  0.8990792267011695\n",
            "\n",
            "平均召回率  0.9122295345143805\n",
            "\n",
            "--------------------------------\n",
            "正則化懲罰項:  10\n",
            "--------------------------------\n",
            "\n",
            "Iteration  0 : 召回率 =  0.9285714285714286\n",
            "Iteration  1 : 召回率 =  0.92\n",
            "Iteration  2 : 召回率 =  0.9153262518968134\n",
            "Iteration  3 : 召回率 =  0.8990792267011695\n",
            "Iteration  4 : 召回率 =  0.8991294735387592\n",
            "\n",
            "平均召回率  0.9124212761416342\n",
            "\n",
            "--------------------------------\n",
            "正則化懲罰項:  100\n",
            "--------------------------------\n",
            "\n",
            "Iteration  0 : 召回率 =  0.9285714285714286\n",
            "Iteration  1 : 召回率 =  0.92\n",
            "Iteration  2 : 召回率 =  0.9146686899342438\n",
            "Iteration  3 : 召回率 =  0.899154596957554\n",
            "Iteration  4 : 召回率 =  0.8989536096071954\n",
            "\n",
            "平均召回率  0.9122696650140844\n",
            "\n",
            "*********************************************************************************\n",
            "最佳模型參數 =  10.0\n",
            "最佳平均召回率 =  0.9124212761416342\n",
            "*********************************************************************************\n"
          ],
          "name": "stdout"
        }
      ]
    },
    {
      "cell_type": "code",
      "metadata": {
        "id": "fXhP3NzX4zHT",
        "outputId": "98501a08-63d1-4350-bb4d-89041b904c1c",
        "colab": {
          "base_uri": "https://localhost:8080/",
          "height": 314
        }
      },
      "source": [
        "lr = LogisticRegression(C=best_c_os, penalty='l1', solver='liblinear')\n",
        "lr.fit(os_features,os_labels.values.ravel())\n",
        "y_pred_os = lr.predict(features_test.values)\n",
        "\n",
        "cnf_matrix = confusion_matrix(labels_test,y_pred_os)\n",
        "np.set_printoptions(precision=2)\n",
        "\n",
        "print(\"召回率: \", cnf_matrix[1,1]/(cnf_matrix[1,0]+cnf_matrix[1,1]))\n",
        "\n",
        "plot_confusion_matrix(cnf_matrix, classes=[0,1])\n",
        "plt.show()\n"
      ],
      "execution_count": 237,
      "outputs": [
        {
          "output_type": "stream",
          "text": [
            "召回率:  0.9183673469387755\n"
          ],
          "name": "stdout"
        },
        {
          "output_type": "display_data",
          "data": {
            "image/png": "[encoded data removed]",
            "text/plain": [
              "<Figure size 432x288 with 2 Axes>"
            ]
          },
          "metadata": {
            "tags": [],
            "needs_background": "light"
          }
        }
      ]
    },
    {
      "cell_type": "code",
      "metadata": {
        "id": "830hHD3v4zJf"
      },
      "source": [
        ""
      ],
      "execution_count": null,
      "outputs": []
    },
    {
      "cell_type": "code",
      "metadata": {
        "id": "hD-0WiCY4zLx"
      },
      "source": [
        ""
      ],
      "execution_count": null,
      "outputs": []
    },
    {
      "cell_type": "code",
      "metadata": {
        "id": "6Tq9a0Yx4zOK"
      },
      "source": [
        ""
      ],
      "execution_count": null,
      "outputs": []
    }
  ]
}